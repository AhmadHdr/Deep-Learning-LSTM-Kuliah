{
  "nbformat": 4,
  "nbformat_minor": 0,
  "metadata": {
    "colab": {
      "provenance": [],
      "authorship_tag": "ABX9TyOpCzAWjS0hmTjBpzMmNcIQ",
      "include_colab_link": true
    },
    "kernelspec": {
      "name": "python3",
      "display_name": "Python 3"
    },
    "language_info": {
      "name": "python"
    }
  },
  "cells": [
    {
      "cell_type": "markdown",
      "metadata": {
        "id": "view-in-github",
        "colab_type": "text"
      },
      "source": [
        "<a href=\"https://colab.research.google.com/github/AhmadHdr/Deep-Learning-LSTM-Kuliah/blob/main/Deep_Learning_LSTM_(Long_Short_Term_Memory).ipynb\" target=\"_parent\"><img src=\"https://colab.research.google.com/assets/colab-badge.svg\" alt=\"Open In Colab\"/></a>"
      ]
    },
    {
      "cell_type": "code",
      "execution_count": 12,
      "metadata": {
        "colab": {
          "base_uri": "https://localhost:8080/",
          "height": 802
        },
        "id": "u1kRFpyjqMc4",
        "outputId": "b4791cfb-1fb8-4cf0-917d-c7e4dbe744f1"
      },
      "outputs": [
        {
          "output_type": "stream",
          "name": "stdout",
          "text": [
            "ini data dari train_x \n",
            " [list([1, 14, 22, 16, 43, 530, 973, 1622, 1385, 65, 458, 4468, 66, 3941, 4, 173, 36, 256, 5, 25, 100, 43, 838, 112, 50, 670, 2, 9, 35, 480, 284, 5, 150, 4, 172, 112, 167, 2, 336, 385, 39, 4, 172, 4536, 1111, 17, 546, 38, 13, 447, 4, 192, 50, 16, 6, 147, 2025, 19, 14, 22, 4, 1920, 4613, 469, 4, 22, 71, 87, 12, 16, 43, 530, 38, 76, 15, 13, 1247, 4, 22, 17, 515, 17, 12, 16, 626, 18, 19193, 5, 62, 386, 12, 8, 316, 8, 106, 5, 4, 2223, 5244, 16, 480, 66, 3785, 33, 4, 130, 12, 16, 38, 619, 5, 25, 124, 51, 36, 135, 48, 25, 1415, 33, 6, 22, 12, 215, 28, 77, 52, 5, 14, 407, 16, 82, 10311, 8, 4, 107, 117, 5952, 15, 256, 4, 2, 7, 3766, 5, 723, 36, 71, 43, 530, 476, 26, 400, 317, 46, 7, 4, 12118, 1029, 13, 104, 88, 4, 381, 15, 297, 98, 32, 2071, 56, 26, 141, 6, 194, 7486, 18, 4, 226, 22, 21, 134, 476, 26, 480, 5, 144, 30, 5535, 18, 51, 36, 28, 224, 92, 25, 104, 4, 226, 65, 16, 38, 1334, 88, 12, 16, 283, 5, 16, 4472, 113, 103, 32, 15, 16, 5345, 19, 178, 32])\n",
            " list([1, 194, 1153, 194, 8255, 78, 228, 5, 6, 1463, 4369, 5012, 134, 26, 4, 715, 8, 118, 1634, 14, 394, 20, 13, 119, 954, 189, 102, 5, 207, 110, 3103, 21, 14, 69, 188, 8, 30, 23, 7, 4, 249, 126, 93, 4, 114, 9, 2300, 1523, 5, 647, 4, 116, 9, 35, 8163, 4, 229, 9, 340, 1322, 4, 118, 9, 4, 130, 4901, 19, 4, 1002, 5, 89, 29, 952, 46, 37, 4, 455, 9, 45, 43, 38, 1543, 1905, 398, 4, 1649, 26, 6853, 5, 163, 11, 3215, 10156, 4, 1153, 9, 194, 775, 7, 8255, 11596, 349, 2637, 148, 605, 15358, 8003, 15, 123, 125, 68, 2, 6853, 15, 349, 165, 4362, 98, 5, 4, 228, 9, 43, 2, 1157, 15, 299, 120, 5, 120, 174, 11, 220, 175, 136, 50, 9, 4373, 228, 8255, 5, 2, 656, 245, 2350, 5, 4, 9837, 131, 152, 491, 18, 2, 32, 7464, 1212, 14, 9, 6, 371, 78, 22, 625, 64, 1382, 9, 8, 168, 145, 23, 4, 1690, 15, 16, 4, 1355, 5, 28, 6, 52, 154, 462, 33, 89, 78, 285, 16, 145, 95])\n",
            " list([1, 14, 47, 8, 30, 31, 7, 4, 249, 108, 7, 4, 5974, 54, 61, 369, 13, 71, 149, 14, 22, 112, 4, 2401, 311, 12, 16, 3711, 33, 75, 43, 1829, 296, 4, 86, 320, 35, 534, 19, 263, 4821, 1301, 4, 1873, 33, 89, 78, 12, 66, 16, 4, 360, 7, 4, 58, 316, 334, 11, 4, 1716, 43, 645, 662, 8, 257, 85, 1200, 42, 1228, 2578, 83, 68, 3912, 15, 36, 165, 1539, 278, 36, 69, 2, 780, 8, 106, 14, 6905, 1338, 18, 6, 22, 12, 215, 28, 610, 40, 6, 87, 326, 23, 2300, 21, 23, 22, 12, 272, 40, 57, 31, 11, 4, 22, 47, 6, 2307, 51, 9, 170, 23, 595, 116, 595, 1352, 13, 191, 79, 638, 89, 2, 14, 9, 8, 106, 607, 624, 35, 534, 6, 227, 7, 129, 113])\n",
            " ...\n",
            " list([1, 11, 6, 230, 245, 6401, 9, 6, 1225, 446, 2, 45, 2174, 84, 8322, 4007, 21, 4, 912, 84, 14532, 325, 725, 134, 15271, 1715, 84, 5, 36, 28, 57, 1099, 21, 8, 140, 8, 703, 5, 11656, 84, 56, 18, 1644, 14, 9, 31, 7, 4, 9406, 1209, 2295, 2, 1008, 18, 6, 20, 207, 110, 563, 12, 8, 2901, 17793, 8, 97, 6, 20, 53, 4767, 74, 4, 460, 364, 1273, 29, 270, 11, 960, 108, 45, 40, 29, 2961, 395, 11, 6, 4065, 500, 7, 14492, 89, 364, 70, 29, 140, 4, 64, 4780, 11, 4, 2678, 26, 178, 4, 529, 443, 17793, 5, 27, 710, 117, 2, 8123, 165, 47, 84, 37, 131, 818, 14, 595, 10, 10, 61, 1242, 1209, 10, 10, 288, 2260, 1702, 34, 2901, 17793, 4, 65, 496, 4, 231, 7, 790, 5, 6, 320, 234, 2766, 234, 1119, 1574, 7, 496, 4, 139, 929, 2901, 17793, 7750, 5, 4241, 18, 4, 8497, 13164, 250, 11, 1818, 7561, 4, 4217, 5408, 747, 1115, 372, 1890, 1006, 541, 9303, 7, 4, 59, 11027, 4, 3586, 2])\n",
            " list([1, 1446, 7079, 69, 72, 3305, 13, 610, 930, 8, 12, 582, 23, 5, 16, 484, 685, 54, 349, 11, 4120, 2959, 45, 58, 1466, 13, 197, 12, 16, 43, 23, 2, 5, 62, 30, 145, 402, 11, 4131, 51, 575, 32, 61, 369, 71, 66, 770, 12, 1054, 75, 100, 2198, 8, 4, 105, 37, 69, 147, 712, 75, 3543, 44, 257, 390, 5, 69, 263, 514, 105, 50, 286, 1814, 23, 4, 123, 13, 161, 40, 5, 421, 4, 116, 16, 897, 13, 2, 40, 319, 5872, 112, 6700, 11, 4803, 121, 25, 70, 3468, 4, 719, 3798, 13, 18, 31, 62, 40, 8, 7200, 4, 2, 7, 14, 123, 5, 942, 25, 8, 721, 12, 145, 5, 202, 12, 160, 580, 202, 12, 6, 52, 58, 11418, 92, 401, 728, 12, 39, 14, 251, 8, 15, 251, 5, 2, 12, 38, 84, 80, 124, 12, 9, 23])\n",
            " list([1, 17, 6, 194, 337, 7, 4, 204, 22, 45, 254, 8, 106, 14, 123, 4, 12815, 270, 14437, 5, 16923, 12255, 732, 2098, 101, 405, 39, 14, 1034, 4, 1310, 9, 115, 50, 305, 12, 47, 4, 168, 5, 235, 7, 38, 111, 699, 102, 7, 4, 4039, 9245, 9, 24, 6, 78, 1099, 17, 2345, 16553, 21, 27, 9685, 6139, 5, 2, 1603, 92, 1183, 4, 1310, 7, 4, 204, 42, 97, 90, 35, 221, 109, 29, 127, 27, 118, 8, 97, 12, 157, 21, 6789, 2, 9, 6, 66, 78, 1099, 4, 631, 1191, 5, 2642, 272, 191, 1070, 6, 7585, 8, 2197, 2, 10755, 544, 5, 383, 1271, 848, 1468, 12183, 497, 16876, 8, 1597, 8778, 19280, 21, 60, 27, 239, 9, 43, 8368, 209, 405, 10, 10, 12, 764, 40, 4, 248, 20, 12, 16, 5, 174, 1791, 72, 7, 51, 6, 1739, 22, 4, 204, 131, 9])] \n",
            "\n",
            "ini data dari train_y \n",
            " [1 0 0 ... 0 1 0] \n",
            "\n",
            "ini data dari test_x \n",
            " [list([1, 591, 202, 14, 31, 6, 717, 10, 10, 18142, 10698, 5, 4, 360, 7, 4, 177, 5760, 394, 354, 4, 123, 9, 1035, 1035, 1035, 10, 10, 13, 92, 124, 89, 488, 7944, 100, 28, 1668, 14, 31, 23, 27, 7479, 29, 220, 468, 8, 124, 14, 286, 170, 8, 157, 46, 5, 27, 239, 16, 179, 15387, 38, 32, 25, 7944, 451, 202, 14, 6, 717])\n",
            " list([1, 14, 22, 3443, 6, 176, 7, 5063, 88, 12, 2679, 23, 1310, 5, 109, 943, 4, 114, 9, 55, 606, 5, 111, 7, 4, 139, 193, 273, 23, 4, 172, 270, 11, 7216, 10626, 4, 8463, 2801, 109, 1603, 21, 4, 22, 3861, 8, 6, 1193, 1330, 10, 10, 4, 105, 987, 35, 841, 16873, 19, 861, 1074, 5, 1987, 17975, 45, 55, 221, 15, 670, 5304, 526, 14, 1069, 4, 405, 5, 2438, 7, 27, 85, 108, 131, 4, 5045, 5304, 3884, 405, 9, 3523, 133, 5, 50, 13, 104, 51, 66, 166, 14, 22, 157, 9, 4, 530, 239, 34, 8463, 2801, 45, 407, 31, 7, 41, 3778, 105, 21, 59, 299, 12, 38, 950, 5, 4521, 15, 45, 629, 488, 2733, 127, 6, 52, 292, 17, 4, 6936, 185, 132, 1988, 5304, 1799, 488, 2693, 47, 6, 392, 173, 4, 2, 4378, 270, 2352, 4, 1500, 7, 4, 65, 55, 73, 11, 346, 14, 20, 9, 6, 976, 2078, 7, 5293, 861, 12746, 5, 4182, 30, 3127, 2, 56, 4, 841, 5, 990, 692, 8, 4, 1669, 398, 229, 10, 10, 13, 2822, 670, 5304, 14, 9, 31, 7, 27, 111, 108, 15, 2033, 19, 7836, 1429, 875, 551, 14, 22, 9, 1193, 21, 45, 4829, 5, 45, 252, 8, 12508, 6, 565, 921, 3639, 39, 4, 529, 48, 25, 181, 8, 67, 35, 1732, 22, 49, 238, 60, 135, 1162, 14, 9, 290, 4, 58, 10, 10, 472, 45, 55, 878, 8, 169, 11, 374, 5687, 25, 203, 28, 8, 818, 12, 125, 4, 3077])\n",
            " list([1, 111, 748, 4368, 1133, 2, 2, 4, 87, 1551, 1262, 7, 31, 318, 9459, 7, 4, 498, 5076, 748, 63, 29, 5161, 220, 686, 10941, 5, 17, 12, 575, 220, 2507, 17, 6, 185, 132, 2, 16, 53, 928, 11, 2, 74, 4, 438, 21, 27, 10044, 589, 8, 22, 107, 2, 19550, 997, 1638, 8, 35, 2076, 9019, 11, 22, 231, 54, 29, 1706, 29, 100, 18995, 2425, 34, 12998, 8738, 2, 5, 19353, 98, 31, 2122, 33, 6, 58, 14, 3808, 1638, 8, 4, 365, 7, 2789, 3761, 356, 346, 4, 2, 1060, 63, 29, 93, 11, 5421, 11, 15236, 33, 6, 58, 54, 1270, 431, 748, 7, 32, 2580, 16, 11, 94, 19469, 10, 10, 4, 993, 2, 7, 4, 1766, 2634, 2164, 2, 8, 847, 8, 1450, 121, 31, 7, 27, 86, 2663, 10760, 16, 6, 465, 993, 2006, 2, 573, 17, 2, 42, 4, 17345, 37, 473, 6, 711, 6, 8869, 7, 328, 212, 70, 30, 258, 11, 220, 32, 7, 108, 21, 133, 12, 9, 55, 465, 849, 3711, 53, 33, 2071, 1969, 37, 70, 1144, 4, 5940, 1409, 74, 476, 37, 62, 91, 1329, 169, 4, 1330, 10104, 146, 655, 2212, 5, 258, 12, 184, 10104, 546, 5, 849, 10333, 7, 4, 22, 1436, 18, 631, 1386, 797, 7, 4, 8712, 71, 348, 425, 4320, 1061, 19, 10288, 5, 12141, 11, 661, 8, 339, 17863, 4, 2455, 11434, 7, 4, 1962, 10, 10, 263, 787, 9, 270, 11, 6, 9466, 4, 2, 2, 121, 4, 5437, 26, 4434, 19, 68, 1372, 5, 28, 446, 6, 318, 7149, 8, 67, 51, 36, 70, 81, 8, 4392, 2294, 36, 1197, 8, 2, 2, 18, 6, 711, 4, 9909, 26, 10296, 1125, 11, 14, 636, 720, 12, 426, 28, 77, 776, 8, 97, 38, 111, 7489, 6175, 168, 1239, 5189, 137, 2, 18, 27, 173, 9, 2399, 17, 6, 12397, 428, 14657, 232, 11, 4, 8014, 37, 272, 40, 2708, 247, 30, 656, 6, 13182, 54, 2, 3292, 98, 6, 2840, 40, 558, 37, 6093, 98, 4, 17345, 1197, 15, 14, 9, 57, 4893, 5, 4659, 6, 275, 711, 7937, 2, 3292, 98, 6, 2, 10, 10, 6639, 19, 14, 10241, 267, 162, 711, 37, 5900, 752, 98, 4, 17345, 2378, 90, 19, 6, 2, 7, 2, 1810, 2, 4, 4770, 3183, 930, 8, 508, 90, 4, 1317, 8, 4, 2, 17, 15454, 3965, 1853, 4, 1494, 8, 4468, 189, 4, 2, 6287, 5774, 4, 4770, 5, 95, 271, 23, 6, 7742, 6063, 2, 5437, 33, 1526, 6, 425, 3155, 2, 4535, 1636, 7, 4, 4669, 11966, 469, 4, 4552, 54, 4, 150, 5664, 17345, 280, 53, 2, 2, 18, 339, 29, 1978, 27, 7885, 5, 17303, 68, 1830, 19, 6571, 14605, 4, 1515, 7, 263, 65, 2132, 34, 6, 5680, 7489, 43, 159, 29, 9, 4706, 9, 387, 73, 195, 584, 10, 10, 1069, 4, 58, 810, 54, 14, 6078, 117, 22, 16, 93, 5, 1069, 4, 192, 15, 12, 16, 93, 34, 6, 1766, 2, 33, 4, 5673, 7, 15, 18760, 9252, 3286, 325, 12, 62, 30, 776, 8, 67, 14, 17, 6, 12214, 44, 148, 687, 2, 203, 42, 203, 24, 28, 69, 2, 6676, 11, 330, 54, 29, 93, 2, 21, 845, 14148, 27, 1099, 7, 819, 4, 22, 1407, 17, 6, 14967, 787, 7, 2460, 19569, 2, 100, 30, 4, 3737, 3617, 3169, 2321, 42, 1898, 11, 4, 3814, 42, 101, 704, 7, 101, 999, 15, 1625, 94, 2926, 180, 5, 9, 9101, 34, 15205, 45, 6, 1429, 22, 60, 6, 1220, 31, 11, 94, 6408, 96, 21, 94, 749, 9, 57, 975])\n",
            " ...\n",
            " list([1, 13, 1408, 15, 8, 135, 14, 9, 35, 32, 46, 394, 20, 62, 30, 5093, 21, 45, 184, 78, 4, 1492, 910, 769, 2290, 2515, 395, 4257, 5, 1454, 11, 119, 16946, 89, 1036, 4, 116, 218, 78, 21, 407, 100, 30, 128, 262, 15, 7, 185, 2280, 284, 1842, 2, 37, 315, 4, 226, 20, 272, 2942, 40, 29, 152, 60, 181, 8, 30, 50, 553, 362, 80, 119, 12, 21, 846, 5518])\n",
            " list([1, 11, 119, 241, 9, 4, 840, 20, 12, 468, 15, 94, 3684, 562, 791, 39, 4, 86, 107, 8, 97, 14, 31, 33, 4, 2960, 7, 743, 46, 1028, 9, 3531, 5, 4, 768, 47, 8, 79, 90, 145, 164, 162, 50, 6, 501, 119, 7, 9, 4, 78, 232, 15, 16, 224, 11, 4, 333, 20, 4, 985, 200, 5, 2, 5, 9, 1861, 8, 79, 357, 4, 20, 47, 220, 57, 206, 139, 11, 12, 5, 55, 117, 212, 13, 1276, 92, 124, 51, 45, 1188, 71, 536, 13, 520, 14, 20, 6, 2302, 7, 470])\n",
            " list([1, 6, 52, 7465, 430, 22, 9, 220, 2594, 8, 28, 2, 519, 3227, 6, 769, 15, 47, 6, 3482, 4067, 8, 114, 5, 33, 222, 31, 55, 184, 704, 5586, 18020, 19, 346, 3153, 5, 6, 364, 350, 4, 184, 5586, 9, 133, 1810, 11, 5417, 13226, 21, 4, 7298, 2, 570, 50, 2005, 2643, 9, 6, 1249, 17, 6, 2, 2, 21, 17, 6, 1211, 232, 1138, 2249, 29, 266, 56, 96, 346, 194, 308, 9, 194, 21, 29, 218, 1078, 19, 4, 78, 173, 7, 27, 2, 5698, 3406, 718, 2, 9, 6, 6907, 17, 210, 5, 3281, 5677, 47, 77, 395, 14, 172, 173, 18, 2740, 2931, 4517, 82, 127, 27, 173, 11, 6, 392, 217, 21, 50, 9, 57, 65, 12, 14274, 53, 40, 35, 390, 7, 11, 4, 3567, 7, 4, 314, 74, 6, 792, 22, 16261, 19, 714, 727, 5205, 382, 4, 91, 6533, 439, 19, 14, 20, 9, 1441, 5805, 1118, 4, 756, 25, 124, 4, 31, 12, 16, 93, 804, 34, 2005, 2643])] \n",
            "\n",
            "ini data dari test_y \n",
            " [0 1 1 ... 0 0 0] \n",
            "\n",
            "ini hasil preprocessing dari train_x \n",
            " [[   15   256     4 ...    19   178    32]\n",
            " [  125    68     2 ...    16   145    95]\n",
            " [  645   662     8 ...     7   129   113]\n",
            " ...\n",
            " [  529   443 17793 ...     4  3586     2]\n",
            " [  286  1814    23 ...    12     9    23]\n",
            " [   97    90    35 ...   204   131     9]] \n",
            "\n",
            "ini hasil preprocessing dari test_x \n",
            " [[   0    0    0 ...   14    6  717]\n",
            " [1669  398  229 ...  125    4 3077]\n",
            " [ 687    2  203 ...    9   57  975]\n",
            " ...\n",
            " [   0    0    0 ...   21  846 5518]\n",
            " [   8   97   14 ... 2302    7  470]\n",
            " [ 718    2    9 ...   34 2005 2643]] \n",
            "\n"
          ]
        },
        {
          "output_type": "execute_result",
          "data": {
            "text/plain": [
              "'\\nSecara khusus, pad_sequences digunakan untuk mengisi atau memotong urutan data sehingga mereka\\nmemiliki panjang yang seragam. Ini berguna dalam kasus di mana model Anda memerlukan input\\ndengan panjang yang tetap, tetapi data Anda memiliki berbagai panjang.\\n\\nhttps://chat.openai.com/share/efd9ef75-763e-4fb7-8e8e-9e5dce441bf2\\n'"
            ],
            "application/vnd.google.colaboratory.intrinsic+json": {
              "type": "string"
            }
          },
          "metadata": {},
          "execution_count": 12
        }
      ],
      "source": [
        "# Importing fitur Embedding, Sequential, dataset, preprocessing, dan numpy\n",
        "from keras.layers import Embedding\n",
        "from keras.models import Sequential\n",
        "from keras.datasets import imdb\n",
        "from tensorflow.keras.preprocessing.sequence import pad_sequences\n",
        "import numpy as np\n",
        "\n",
        "# Load data dari data set yang telah diimport\n",
        "max_words = 20000\n",
        "(train_x, train_y), (test_x, test_y) = imdb.load_data(num_words=max_words)\n",
        "\n",
        "# periksa data\n",
        "print(f\"ini data dari train_x \\n {train_x} \\n\")\n",
        "print(f\"ini data dari train_y \\n {train_y} \\n\")\n",
        "print(f\"ini data dari test_x \\n {test_x} \\n\")\n",
        "print(f\"ini data dari test_y \\n {test_y} \\n\")\n",
        "\n",
        "\n",
        "max_review_length = 80\n",
        "\n",
        "# Melakukan preprocessing menggunakan pad_sequences\n",
        "train_x = pad_sequences(train_x, truncating= 'pre', padding= 'pre', maxlen=max_review_length)\n",
        "test_x = pad_sequences(test_x, truncating= 'pre', padding= 'pre', maxlen=max_review_length)\n",
        "\n",
        "# periksa hasil preprocessing\n",
        "print(f\"ini hasil preprocessing dari train_x \\n {train_x} \\n\")\n",
        "print(f\"ini hasil preprocessing dari test_x \\n {test_x} \\n\")\n",
        "\n",
        "\"\"\"\n",
        "Secara khusus, pad_sequences digunakan untuk mengisi atau memotong urutan data sehingga mereka\n",
        "memiliki panjang yang seragam. Ini berguna dalam kasus di mana model Anda memerlukan input\n",
        "dengan panjang yang tetap, tetapi data Anda memiliki berbagai panjang.\n",
        "\n",
        "https://chat.openai.com/share/efd9ef75-763e-4fb7-8e8e-9e5dce441bf2\n",
        "\"\"\""
      ]
    },
    {
      "cell_type": "code",
      "source": [
        "# Menentukan panjang minimal dan maksimal sebuah kata\n",
        "model = Sequential()\n",
        "embedding_length = 5\n",
        "max_words = 1000\n",
        "max_sentence_length = 18\n",
        "model.add(Embedding(max_words, embedding_length, input_length=max_sentence_length))\n",
        "# the model will take as input an integer matrix of size (batch, input_length).\n",
        "# the largest integer (i.e. word index) in the input should be\n",
        "# no larger than max_words-1 (vocabulary size).\n",
        "# now model.output_shape == (None, max_review_length, embedding_length), where None is the batch dimension.\n",
        "\n",
        "input_array = np.random.randint(max_words, size= (2, max_sentence_length)) #train_x[0]\n",
        "print(input_array, np.shape(input_array))\n",
        "\n",
        "# Periksa model dengan memberi inputan 'rmsprop' dan 'mse'\n",
        "model.compile('rmsprop', 'mse')\n",
        "output_array = model.predict(input_array)\n",
        "print(output_array, np.shape(output_array))\n",
        "\n"
      ],
      "metadata": {
        "colab": {
          "base_uri": "https://localhost:8080/"
        },
        "id": "wVqtV80frDzt",
        "outputId": "f56b2405-be72-4af0-8e1e-203f5ccd7400"
      },
      "execution_count": 13,
      "outputs": [
        {
          "output_type": "stream",
          "name": "stdout",
          "text": [
            "[[598 428 298 130 134  99 195 381 173 985 212 964 239 506 108 622 975 748]\n",
            " [ 12 352 164 870  42 401 449 134   9 444 301 732 985 847  14 666 884 834]] (2, 18)\n",
            "1/1 [==============================] - 0s 31ms/step\n",
            "[[[-0.02888241  0.02768413 -0.00584816 -0.03495953  0.00673185]\n",
            "  [ 0.01836348 -0.04020143 -0.01429591 -0.03870678 -0.018827  ]\n",
            "  [-0.02778301 -0.03174988 -0.03671044 -0.0205802   0.04142452]\n",
            "  [-0.03829189  0.04052622  0.01024175  0.00231925 -0.02562823]\n",
            "  [ 0.02505188  0.02658787  0.03616877 -0.00565917  0.04732105]\n",
            "  [-0.03442647 -0.03993322  0.04235313 -0.02786694  0.04968951]\n",
            "  [-0.03151535  0.04716215  0.01913874 -0.01503821 -0.0334331 ]\n",
            "  [ 0.04199413 -0.04419457  0.01334219  0.001362    0.03870156]\n",
            "  [ 0.04044021  0.01512045  0.03289496 -0.04851136 -0.03180076]\n",
            "  [-0.04323335 -0.04487504  0.0256114  -0.02430091 -0.03166471]\n",
            "  [-0.01919798  0.01853588 -0.03700267 -0.00504558  0.04858316]\n",
            "  [-0.03167855 -0.04731277  0.00478541  0.01527344  0.04799039]\n",
            "  [-0.00457089  0.00145172 -0.03626286  0.0373393  -0.01602498]\n",
            "  [ 0.02362229  0.04529202  0.00177134  0.02143767  0.02736575]\n",
            "  [-0.0474326   0.03506522 -0.02399222  0.01566828  0.04700724]\n",
            "  [ 0.01908818  0.00821728  0.00834999 -0.02133907  0.02386457]\n",
            "  [ 0.0401729   0.01234984 -0.02042222  0.01671404  0.02188002]\n",
            "  [ 0.02395372 -0.04364835 -0.00293635  0.02464866  0.04336348]]\n",
            "\n",
            " [[-0.04204389 -0.03462522  0.00491407 -0.01550372 -0.04950134]\n",
            "  [ 0.03364959  0.02350993  0.03785603 -0.02398794 -0.0382859 ]\n",
            "  [ 0.00533315 -0.0034667  -0.00701322  0.04310758  0.00320346]\n",
            "  [-0.01271676 -0.01717106  0.00134723  0.03545352 -0.04689735]\n",
            "  [-0.03587011  0.00222607  0.02271087 -0.02975812 -0.03316178]\n",
            "  [ 0.00805045  0.02945185  0.01463794 -0.03999303  0.02774025]\n",
            "  [-0.01832395 -0.02917494  0.02148435 -0.00398012  0.01789727]\n",
            "  [ 0.02505188  0.02658787  0.03616877 -0.00565917  0.04732105]\n",
            "  [-0.02504642  0.04680011 -0.01029142  0.04586254 -0.00905889]\n",
            "  [-0.03315754  0.04132917 -0.01962475  0.02464216 -0.01150144]\n",
            "  [-0.04644984  0.04828943 -0.01198454 -0.02121041  0.02610577]\n",
            "  [-0.0128368   0.02515563 -0.00789779 -0.04436921  0.04435324]\n",
            "  [-0.04323335 -0.04487504  0.0256114  -0.02430091 -0.03166471]\n",
            "  [ 0.03117252  0.02241187  0.04898046 -0.03588353  0.00403335]\n",
            "  [ 0.01941196 -0.04780389 -0.03872517  0.02357109  0.01284731]\n",
            "  [-0.00430093 -0.03838569  0.02696979  0.03946005 -0.02775012]\n",
            "  [-0.02912223 -0.03495964 -0.01597764  0.02119167  0.04146022]\n",
            "  [ 0.04941184  0.03651443  0.00234251 -0.02515385  0.04916868]]] (2, 18, 5)\n"
          ]
        }
      ]
    },
    {
      "cell_type": "markdown",
      "source": [
        "## One Hot Representation\n",
        "Untuk menentukan text klasifikasi menggunakan sentimen analisis"
      ],
      "metadata": {
        "id": "usSS7s_Wr1su"
      }
    },
    {
      "cell_type": "code",
      "source": [
        "from keras.preprocessing.text import one_hot\n",
        "\n",
        "# Define documents\n",
        "docs = [\n",
        "    'glass of orange juice',\n",
        "    'bottle of mango juice',\n",
        "    'glass of mango shake',\n",
        "    'drink bottle of banana shake',\n",
        "    'I want a glass of cold water',\n",
        "    'The king and the queen',\n",
        "    'man and woman'\n",
        "]\n",
        "\n",
        "vocab_size = 10000\n",
        "\n",
        "encoded_docs = [one_hot(d, vocab_size) for d in docs]\n",
        "print(encoded_docs)"
      ],
      "metadata": {
        "id": "vR9AN3QHwKur",
        "colab": {
          "base_uri": "https://localhost:8080/"
        },
        "outputId": "9b3e501b-6fbe-4615-e560-cd2d937943f1"
      },
      "execution_count": 14,
      "outputs": [
        {
          "output_type": "stream",
          "name": "stdout",
          "text": [
            "[[7691, 4656, 810, 2637], [6381, 4656, 4262, 2637], [7691, 4656, 4262, 6118], [9975, 6381, 4656, 6587, 6118], [2502, 6826, 4270, 7691, 4656, 3284, 4117], [4158, 579, 2539, 4158, 9484], [1971, 2539, 758]]\n"
          ]
        }
      ]
    },
    {
      "cell_type": "markdown",
      "source": [
        "## Word Embeddings\n"
      ],
      "metadata": {
        "id": "pXiYhIb3u968"
      }
    },
    {
      "cell_type": "code",
      "source": [
        "from tensorflow.keras.preprocessing.sequence import pad_sequences\n",
        "from tensorflow.keras.models import Sequential\n",
        "from tensorflow.keras.layers import Embedding, LSTM, Dense\n",
        "import numpy as np\n",
        "\n",
        "embedding_length = 5\n",
        "max_doc_len = 10\n",
        "encoded_docs = pad_sequences(encoded_docs, truncating='post', padding='post', maxlen=max_doc_len)\n",
        "\n",
        "print(encoded_docs)"
      ],
      "metadata": {
        "id": "_5NSwUhjvAh6",
        "colab": {
          "base_uri": "https://localhost:8080/"
        },
        "outputId": "9d246e79-74fc-43a4-e4fc-1f09e974352c"
      },
      "execution_count": 21,
      "outputs": [
        {
          "output_type": "stream",
          "name": "stdout",
          "text": [
            "[[7691 4656  810 2637    0    0    0    0    0    0]\n",
            " [6381 4656 4262 2637    0    0    0    0    0    0]\n",
            " [7691 4656 4262 6118    0    0    0    0    0    0]\n",
            " [9975 6381 4656 6587 6118    0    0    0    0    0]\n",
            " [2502 6826 4270 7691 4656 3284 4117    0    0    0]\n",
            " [4158  579 2539 4158 9484    0    0    0    0    0]\n",
            " [1971 2539  758    0    0    0    0    0    0    0]]\n"
          ]
        }
      ]
    },
    {
      "cell_type": "code",
      "source": [
        "model = Sequential()\n",
        "model.add(Embedding(vocab_size, embedding_lenght, input_length=max_doc_len))\n",
        "model.compile('rmsprop', 'mse')\n",
        "output = model.predict(encoded_docs)\n",
        "print(output.shape)\n",
        "model.summary()\n",
        "model.add(LSTM(units=64))\n",
        "print(output)"
      ],
      "metadata": {
        "colab": {
          "base_uri": "https://localhost:8080/"
        },
        "id": "kxceykZYR6mt",
        "outputId": "6ce3de3f-aea2-490c-9aaa-1f1e1ac3db27"
      },
      "execution_count": 22,
      "outputs": [
        {
          "output_type": "stream",
          "name": "stderr",
          "text": [
            "WARNING:tensorflow:5 out of the last 5 calls to <function Model.make_predict_function.<locals>.predict_function at 0x7e2be13e3be0> triggered tf.function retracing. Tracing is expensive and the excessive number of tracings could be due to (1) creating @tf.function repeatedly in a loop, (2) passing tensors with different shapes, (3) passing Python objects instead of tensors. For (1), please define your @tf.function outside of the loop. For (2), @tf.function has reduce_retracing=True option that can avoid unnecessary retracing. For (3), please refer to https://www.tensorflow.org/guide/function#controlling_retracing and https://www.tensorflow.org/api_docs/python/tf/function for  more details.\n"
          ]
        },
        {
          "output_type": "stream",
          "name": "stdout",
          "text": [
            "1/1 [==============================] - 0s 45ms/step\n",
            "(7, 10, 64)\n",
            "Model: \"sequential_8\"\n",
            "_________________________________________________________________\n",
            " Layer (type)                Output Shape              Param #   \n",
            "=================================================================\n",
            " embedding_5 (Embedding)     (None, 10, 64)            640000    \n",
            "                                                                 \n",
            "=================================================================\n",
            "Total params: 640000 (2.44 MB)\n",
            "Trainable params: 640000 (2.44 MB)\n",
            "Non-trainable params: 0 (0.00 Byte)\n",
            "_________________________________________________________________\n",
            "[[[ 2.9163722e-02  5.4192916e-03 -3.3243783e-03 ...  1.4685322e-02\n",
            "   -3.7250232e-02 -1.5730370e-02]\n",
            "  [ 6.7734346e-03  7.6091997e-03  3.4348939e-02 ...  4.5961890e-02\n",
            "   -3.9334167e-02  3.2387599e-03]\n",
            "  [-4.3509971e-02  3.3549998e-02 -3.8161874e-03 ... -2.3801113e-02\n",
            "   -4.6859730e-02  2.8960239e-02]\n",
            "  ...\n",
            "  [-1.9574285e-02  2.3198251e-02 -4.6357848e-02 ... -4.3361891e-02\n",
            "   -2.1713233e-02  1.7994415e-02]\n",
            "  [-1.9574285e-02  2.3198251e-02 -4.6357848e-02 ... -4.3361891e-02\n",
            "   -2.1713233e-02  1.7994415e-02]\n",
            "  [-1.9574285e-02  2.3198251e-02 -4.6357848e-02 ... -4.3361891e-02\n",
            "   -2.1713233e-02  1.7994415e-02]]\n",
            "\n",
            " [[-3.4240652e-02  4.2148605e-03  1.7816070e-02 ...  2.4545480e-02\n",
            "    1.5283529e-02  2.5583256e-02]\n",
            "  [ 6.7734346e-03  7.6091997e-03  3.4348939e-02 ...  4.5961890e-02\n",
            "   -3.9334167e-02  3.2387599e-03]\n",
            "  [-2.9658675e-03  1.5422348e-02 -4.0680490e-02 ...  3.3113625e-02\n",
            "    2.2283349e-02 -3.1090403e-02]\n",
            "  ...\n",
            "  [-1.9574285e-02  2.3198251e-02 -4.6357848e-02 ... -4.3361891e-02\n",
            "   -2.1713233e-02  1.7994415e-02]\n",
            "  [-1.9574285e-02  2.3198251e-02 -4.6357848e-02 ... -4.3361891e-02\n",
            "   -2.1713233e-02  1.7994415e-02]\n",
            "  [-1.9574285e-02  2.3198251e-02 -4.6357848e-02 ... -4.3361891e-02\n",
            "   -2.1713233e-02  1.7994415e-02]]\n",
            "\n",
            " [[ 2.9163722e-02  5.4192916e-03 -3.3243783e-03 ...  1.4685322e-02\n",
            "   -3.7250232e-02 -1.5730370e-02]\n",
            "  [ 6.7734346e-03  7.6091997e-03  3.4348939e-02 ...  4.5961890e-02\n",
            "   -3.9334167e-02  3.2387599e-03]\n",
            "  [-2.9658675e-03  1.5422348e-02 -4.0680490e-02 ...  3.3113625e-02\n",
            "    2.2283349e-02 -3.1090403e-02]\n",
            "  ...\n",
            "  [-1.9574285e-02  2.3198251e-02 -4.6357848e-02 ... -4.3361891e-02\n",
            "   -2.1713233e-02  1.7994415e-02]\n",
            "  [-1.9574285e-02  2.3198251e-02 -4.6357848e-02 ... -4.3361891e-02\n",
            "   -2.1713233e-02  1.7994415e-02]\n",
            "  [-1.9574285e-02  2.3198251e-02 -4.6357848e-02 ... -4.3361891e-02\n",
            "   -2.1713233e-02  1.7994415e-02]]\n",
            "\n",
            " ...\n",
            "\n",
            " [[ 4.6640482e-02 -1.1445902e-02 -1.6995717e-02 ... -1.8250514e-02\n",
            "    3.7841465e-02 -1.4213074e-02]\n",
            "  [ 4.0250551e-02 -1.6664378e-03  3.7419189e-02 ...  3.3763383e-02\n",
            "    4.9600508e-02  3.3670094e-02]\n",
            "  [-4.8510995e-02 -1.7931782e-02 -7.9730526e-03 ... -5.1392689e-03\n",
            "   -3.2623038e-03 -1.6221128e-02]\n",
            "  ...\n",
            "  [-1.9574285e-02  2.3198251e-02 -4.6357848e-02 ... -4.3361891e-02\n",
            "   -2.1713233e-02  1.7994415e-02]\n",
            "  [-1.9574285e-02  2.3198251e-02 -4.6357848e-02 ... -4.3361891e-02\n",
            "   -2.1713233e-02  1.7994415e-02]\n",
            "  [-1.9574285e-02  2.3198251e-02 -4.6357848e-02 ... -4.3361891e-02\n",
            "   -2.1713233e-02  1.7994415e-02]]\n",
            "\n",
            " [[ 3.3288967e-02 -4.9577642e-02 -1.8021155e-02 ... -1.3053656e-02\n",
            "   -4.1384898e-02  4.7917876e-02]\n",
            "  [-1.5658546e-02 -4.9283054e-02 -8.4069259e-03 ... -4.5252085e-02\n",
            "   -1.0103427e-02 -3.3719875e-02]\n",
            "  [-6.3218176e-05  4.5707226e-03 -2.1173907e-02 ... -6.6190474e-03\n",
            "   -2.1396482e-02  4.0144388e-02]\n",
            "  ...\n",
            "  [-1.9574285e-02  2.3198251e-02 -4.6357848e-02 ... -4.3361891e-02\n",
            "   -2.1713233e-02  1.7994415e-02]\n",
            "  [-1.9574285e-02  2.3198251e-02 -4.6357848e-02 ... -4.3361891e-02\n",
            "   -2.1713233e-02  1.7994415e-02]\n",
            "  [-1.9574285e-02  2.3198251e-02 -4.6357848e-02 ... -4.3361891e-02\n",
            "   -2.1713233e-02  1.7994415e-02]]\n",
            "\n",
            " [[ 3.5516288e-02  2.6117675e-03  7.1013942e-03 ...  3.6877725e-02\n",
            "   -7.7863783e-04 -2.9950514e-03]\n",
            "  [-6.3218176e-05  4.5707226e-03 -2.1173907e-02 ... -6.6190474e-03\n",
            "   -2.1396482e-02  4.0144388e-02]\n",
            "  [ 5.7613738e-03 -3.5047449e-02 -2.1497978e-02 ...  4.1612420e-02\n",
            "   -2.6711380e-02 -3.9530478e-02]\n",
            "  ...\n",
            "  [-1.9574285e-02  2.3198251e-02 -4.6357848e-02 ... -4.3361891e-02\n",
            "   -2.1713233e-02  1.7994415e-02]\n",
            "  [-1.9574285e-02  2.3198251e-02 -4.6357848e-02 ... -4.3361891e-02\n",
            "   -2.1713233e-02  1.7994415e-02]\n",
            "  [-1.9574285e-02  2.3198251e-02 -4.6357848e-02 ... -4.3361891e-02\n",
            "   -2.1713233e-02  1.7994415e-02]]]\n"
          ]
        }
      ]
    },
    {
      "cell_type": "markdown",
      "source": [
        "## Putting It Together"
      ],
      "metadata": {
        "id": "RVmViyEWSpd1"
      }
    },
    {
      "cell_type": "markdown",
      "source": [
        "## Sentiment Analysis in Keras"
      ],
      "metadata": {
        "id": "jL-HLejeS5ot"
      }
    },
    {
      "cell_type": "code",
      "source": [
        "from tensorflow.keras.preprocessing import sequence\n",
        "from tensorflow.keras.datasets import imdb\n",
        "\n",
        "max_words = 20000\n",
        "max_review_length = 80\n",
        "\n",
        "(x_train, y_train), (x_test, y_test) = imdb.load_data(num_words=max_words)\n",
        "\n",
        "x_train = sequence.pad_sequences(x_train, truncating='pre', padding='pre', maxlen=max_review_length)\n",
        "x_test = sequence.pad_sequences(x_test, truncating='pre', padding='pre', maxlen=max_review_length)\n",
        "\n",
        "print('x_train shape :', x_train.shape)\n",
        "print('x_test shape :', x_test.shape)"
      ],
      "metadata": {
        "colab": {
          "base_uri": "https://localhost:8080/"
        },
        "id": "tBcvhJu9SvWs",
        "outputId": "2c806a39-86d2-440d-9096-a16bc42745e3"
      },
      "execution_count": 23,
      "outputs": [
        {
          "output_type": "stream",
          "name": "stdout",
          "text": [
            "x_train shape : (25000, 80)\n",
            "x_test shape : (25000, 80)\n"
          ]
        }
      ]
    },
    {
      "cell_type": "code",
      "source": [
        "#1 Build teh Model\n",
        "\n",
        "print('Build Model . . .')\n",
        "embedding_lenght = 64\n",
        "model = Sequential()\n",
        "model.add(Embedding(input_dim=max_words, output_dim=embedding_length, input_length=max_review_length))\n",
        "model.add(LSTM(units=64, input_shape=(max_review_length, embedding_length), return_sequences=False, unroll=True))\n",
        "\n",
        "model.add(Dense(1, activation='sigmoid'))\n",
        "# try using different optimizers and different optimizer config\n",
        "model.compile(\n",
        "    loss='binary_crossentropy',\n",
        "    optimizer='adam',\n",
        "    metrics=['accuracy']\n",
        "    )\n"
      ],
      "metadata": {
        "colab": {
          "base_uri": "https://localhost:8080/"
        },
        "id": "t1t46ZsyUcX2",
        "outputId": "1ade158b-8f36-45a3-c655-3348c6ea3fee"
      },
      "execution_count": 24,
      "outputs": [
        {
          "output_type": "stream",
          "name": "stdout",
          "text": [
            "Build Model . . .\n"
          ]
        }
      ]
    },
    {
      "cell_type": "code",
      "source": [
        "#2 Visualize\n",
        "\n",
        "model.summary()\n",
        "from keras.utils import plot_model\n",
        "plot_model(model, show_shapes=True, to_file='sent_analysis_model.png')"
      ],
      "metadata": {
        "colab": {
          "base_uri": "https://localhost:8080/",
          "height": 682
        },
        "id": "gjtQgiL9Wtmd",
        "outputId": "35283a3f-d888-4d08-a10d-a6e603d03913"
      },
      "execution_count": 26,
      "outputs": [
        {
          "output_type": "stream",
          "name": "stdout",
          "text": [
            "Model: \"sequential_9\"\n",
            "_________________________________________________________________\n",
            " Layer (type)                Output Shape              Param #   \n",
            "=================================================================\n",
            " embedding_6 (Embedding)     (None, 80, 5)             100000    \n",
            "                                                                 \n",
            " lstm_4 (LSTM)               (None, 64)                17920     \n",
            "                                                                 \n",
            " dense (Dense)               (None, 1)                 65        \n",
            "                                                                 \n",
            "=================================================================\n",
            "Total params: 117985 (460.88 KB)\n",
            "Trainable params: 117985 (460.88 KB)\n",
            "Non-trainable params: 0 (0.00 Byte)\n",
            "_________________________________________________________________\n"
          ]
        },
        {
          "output_type": "execute_result",
          "data": {
            "image/png": "[encoded data removed]",
            "text/plain": [
              "<IPython.core.display.Image object>"
            ]
          },
          "metadata": {},
          "execution_count": 26
        }
      ]
    },
    {
      "cell_type": "code",
      "source": [
        "#3 Train the Model\n",
        "\n",
        "import matplotlib.pyplot as plt\n",
        "\n",
        "print('Training . . .')\n",
        "batch_size = 32\n",
        "epochs = 10\n",
        "\n",
        "history = model.fit(\n",
        "    x_train,\n",
        "    y_train,\n",
        "    batch_size=batch_size,\n",
        "    epochs=epochs,\n",
        "    validation_data=(x_test, y_test)\n",
        "    )\n",
        "\n",
        "# Plot Accuracy\n",
        "plt.plot(history.history['accuracy'])\n",
        "plt.plot(history.history['val_accuracy'])\n",
        "plt.title('Model Accuracy')\n",
        "plt.xlabel('Epoch')\n",
        "plt.ylabel('Accuracy')\n",
        "plt.legend(['Train', 'Validation'], loc='upper left')\n",
        "plt.show()"
      ],
      "metadata": {
        "colab": {
          "base_uri": "https://localhost:8080/",
          "height": 837
        },
        "id": "pcJHuKpbXSc0",
        "outputId": "89a33551-a491-4bc2-eef8-6476b361cbbd"
      },
      "execution_count": 27,
      "outputs": [
        {
          "output_type": "stream",
          "name": "stdout",
          "text": [
            "Training . . .\n",
            "Epoch 1/10\n",
            "782/782 [==============================] - 29s 26ms/step - loss: 0.4488 - accuracy: 0.7788 - val_loss: 0.3562 - val_accuracy: 0.8440\n",
            "Epoch 2/10\n",
            "782/782 [==============================] - 21s 26ms/step - loss: 0.2762 - accuracy: 0.8884 - val_loss: 0.3763 - val_accuracy: 0.8365\n",
            "Epoch 3/10\n",
            "782/782 [==============================] - 19s 25ms/step - loss: 0.2100 - accuracy: 0.9206 - val_loss: 0.5017 - val_accuracy: 0.8194\n",
            "Epoch 4/10\n",
            "782/782 [==============================] - 19s 24ms/step - loss: 0.1648 - accuracy: 0.9392 - val_loss: 0.4575 - val_accuracy: 0.8225\n",
            "Epoch 5/10\n",
            "782/782 [==============================] - 19s 24ms/step - loss: 0.1330 - accuracy: 0.9529 - val_loss: 0.6434 - val_accuracy: 0.8066\n",
            "Epoch 6/10\n",
            "782/782 [==============================] - 20s 26ms/step - loss: 0.1079 - accuracy: 0.9652 - val_loss: 0.5353 - val_accuracy: 0.8116\n",
            "Epoch 7/10\n",
            "782/782 [==============================] - 19s 24ms/step - loss: 0.0908 - accuracy: 0.9693 - val_loss: 0.6742 - val_accuracy: 0.8046\n",
            "Epoch 8/10\n",
            "782/782 [==============================] - 19s 25ms/step - loss: 0.0762 - accuracy: 0.9746 - val_loss: 0.7141 - val_accuracy: 0.8020\n",
            "Epoch 9/10\n",
            "782/782 [==============================] - 20s 26ms/step - loss: 0.0598 - accuracy: 0.9807 - val_loss: 0.7719 - val_accuracy: 0.8058\n",
            "Epoch 10/10\n",
            "782/782 [==============================] - 18s 23ms/step - loss: 0.0543 - accuracy: 0.9824 - val_loss: 0.7888 - val_accuracy: 0.7975\n"
          ]
        },
        {
          "output_type": "display_data",
          "data": {
            "text/plain": [
              "<Figure size 640x480 with 1 Axes>"
            ],
            "image/png": "[encoded data removed]"
          },
          "metadata": {}
        }
      ]
    },
    {
      "cell_type": "code",
      "source": [
        "#4 Evaluate the Model\n",
        "\n",
        "score, acc = model.evaluate(x_test, y_test, batch_size=batch_size)\n",
        "print(f\"Test score = {score}\")\n",
        "print(f\"Test accuracy = {acc}\")"
      ],
      "metadata": {
        "colab": {
          "base_uri": "https://localhost:8080/"
        },
        "id": "bjR98iDUlXkq",
        "outputId": "a8b25a41-951b-4b4a-a710-29a811ccd5ac"
      },
      "execution_count": 28,
      "outputs": [
        {
          "output_type": "stream",
          "name": "stdout",
          "text": [
            "782/782 [==============================] - 4s 5ms/step - loss: 0.7888 - accuracy: 0.7975\n",
            "Test score = 0.7887549996376038\n",
            "Test accuracy = 0.7974799871444702\n"
          ]
        }
      ]
    },
    {
      "cell_type": "code",
      "source": [
        "#5 Making Predictions with the Model\n",
        "\n",
        "review = 'The moview was a great of time.'\n",
        "print(f\"New review = {review}\")\n",
        "\n",
        "d = imdb.get_word_index()\n",
        "words = review.split()\n",
        "review = []\n",
        "\n",
        "for word in words:\n",
        "  if word not in d:\n",
        "    review.append(2)\n",
        "  else:\n",
        "    review.append(d[word] + 3)\n",
        "\n",
        "print(f\"review = {review}\")\n",
        "review = sequence.pad_sequences([review], truncating='pre', padding='pre', maxlen=80)\n",
        "prediction = model.predict(review)\n",
        "print(f\"Prediction (0 = Negative, 1 = Positive) = {prediction}\")"
      ],
      "metadata": {
        "colab": {
          "base_uri": "https://localhost:8080/"
        },
        "id": "x4GhY4YxmH_Y",
        "outputId": "08e6451d-7c13-481d-a6e2-16c7f0afcc2d"
      },
      "execution_count": 29,
      "outputs": [
        {
          "output_type": "stream",
          "name": "stdout",
          "text": [
            "New review = The moview was a great of time.\n",
            "Downloading data from https://storage.googleapis.com/tensorflow/tf-keras-datasets/imdb_word_index.json\n",
            "1641221/1641221 [==============================] - 0s 0us/step\n",
            "review = [2, 2, 16, 6, 87, 7, 2]\n"
          ]
        },
        {
          "output_type": "stream",
          "name": "stderr",
          "text": [
            "WARNING:tensorflow:6 out of the last 6 calls to <function Model.make_predict_function.<locals>.predict_function at 0x7e2bd1d601f0> triggered tf.function retracing. Tracing is expensive and the excessive number of tracings could be due to (1) creating @tf.function repeatedly in a loop, (2) passing tensors with different shapes, (3) passing Python objects instead of tensors. For (1), please define your @tf.function outside of the loop. For (2), @tf.function has reduce_retracing=True option that can avoid unnecessary retracing. For (3), please refer to https://www.tensorflow.org/guide/function#controlling_retracing and https://www.tensorflow.org/api_docs/python/tf/function for  more details.\n"
          ]
        },
        {
          "output_type": "stream",
          "name": "stdout",
          "text": [
            "1/1 [==============================] - 2s 2s/step\n",
            "Prediction (0 = Negative, 1 = Positive) = [[0.70557207]]\n"
          ]
        }
      ]
    },
    {
      "cell_type": "code",
      "source": [],
      "metadata": {
        "id": "YW8uCQGJz9v9"
      },
      "execution_count": null,
      "outputs": []
    }
  ]
}